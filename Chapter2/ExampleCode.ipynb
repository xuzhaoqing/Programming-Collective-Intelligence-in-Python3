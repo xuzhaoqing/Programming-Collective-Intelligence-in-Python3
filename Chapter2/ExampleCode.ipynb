{
 "cells": [
  {
   "cell_type": "code",
   "execution_count": 82,
   "metadata": {},
   "outputs": [],
   "source": [
    "# A dictionary of movie critics and their ratings of a small set of movies\n",
    "critics = {\n",
    "    'Lisa Rose': {\n",
    "        'Lady in the Water': 2.5,\n",
    "        'Snakes on a Plane': 3.5,\n",
    "        'Just My Luck': 3.0,\n",
    "        'Superman Returns': 3.5,\n",
    "        'You, Me and Dupree': 2.5,\n",
    "        'The Night Listener': 3.0,\n",
    "    },\n",
    "    'Gene Seymour': {\n",
    "        'Lady in the Water': 3.0,\n",
    "        'Snakes on a Plane': 3.5,\n",
    "        'Just My Luck': 1.5,\n",
    "        'Superman Returns': 5.0,\n",
    "        'The Night Listener': 3.0,\n",
    "        'You, Me and Dupree': 3.5,\n",
    "    },\n",
    "    'Michael Phillips': {\n",
    "        'Lady in the Water': 2.5,\n",
    "        'Snakes on a Plane': 3.0,\n",
    "        'Superman Returns': 3.5,\n",
    "        'The Night Listener': 4.0,\n",
    "    },\n",
    "    'Claudia Puig': {\n",
    "        'Snakes on a Plane': 3.5,\n",
    "        'Just My Luck': 3.0,\n",
    "        'The Night Listener': 4.5,\n",
    "        'Superman Returns': 4.0,\n",
    "        'You, Me and Dupree': 2.5,\n",
    "    },\n",
    "    'Mick LaSalle': {\n",
    "        'Lady in the Water': 3.0,\n",
    "        'Snakes on a Plane': 4.0,\n",
    "        'Just My Luck': 2.0,\n",
    "        'Superman Returns': 3.0,\n",
    "        'The Night Listener': 3.0,\n",
    "        'You, Me and Dupree': 2.0,\n",
    "    },\n",
    "    'Jack Matthews': {\n",
    "        'Lady in the Water': 3.0,\n",
    "        'Snakes on a Plane': 4.0,\n",
    "        'The Night Listener': 3.0,\n",
    "        'Superman Returns': 5.0,\n",
    "        'You, Me and Dupree': 3.5,\n",
    "    },\n",
    "    'Toby': {\n",
    "        'Snakes on a Plane': 4.5, \n",
    "        'You, Me and Dupree': 1.0,\n",
    "        'Superman Returns': 4.0},\n",
    "}"
   ]
  },
  {
   "cell_type": "code",
   "execution_count": 83,
   "metadata": {},
   "outputs": [
    {
     "data": {
      "text/plain": [
       "2.5"
      ]
     },
     "execution_count": 83,
     "metadata": {},
     "output_type": "execute_result"
    }
   ],
   "source": [
    "critics['Lisa Rose']['Lady in the Water']"
   ]
  },
  {
   "cell_type": "markdown",
   "metadata": {},
   "source": [
    "### Euclidean Distance Score(欧几里得距离评价)"
   ]
  },
  {
   "cell_type": "markdown",
   "metadata": {},
   "source": [
    "#### Compute the distance score of Toby and Lasalle"
   ]
  },
  {
   "cell_type": "code",
   "execution_count": 84,
   "metadata": {},
   "outputs": [
    {
     "data": {
      "text/plain": [
       "1.5"
      ]
     },
     "execution_count": 84,
     "metadata": {},
     "output_type": "execute_result"
    }
   ],
   "source": [
    "from math import sqrt\n",
    "sqrt(pow(4.5-4,2))+pow(1-2,2)   "
   ]
  },
  {
   "cell_type": "code",
   "execution_count": 85,
   "metadata": {},
   "outputs": [],
   "source": [
    "def sim_distance(prefs, p1, p2):\n",
    "    '''\n",
    "    Returns a distance-based similarity score for person1 and person2.\n",
    "    '''\n",
    "\n",
    "    # Get the list of shared_items\n",
    "    si = {}\n",
    "    for item in prefs[p1]:\n",
    "        if item in prefs[p2]:\n",
    "            si[item] = 1\n",
    "    # If they have no ratings in common, return 0\n",
    "    if len(si) == 0:\n",
    "        return 0\n",
    "    # Add up the squares of all the differences\n",
    "    sum_of_squares = sum([pow(prefs[p1][item] - prefs[p2][item], 2) for item in si])  ##Noting:it's different from the code in the book\n",
    "    return 1 / (1 + sqrt(sum_of_squares)) #To avoid divide-by-0 error, add 1 here "
   ]
  },
  {
   "cell_type": "code",
   "execution_count": 86,
   "metadata": {},
   "outputs": [
    {
     "data": {
      "text/plain": [
       "0.29429805508554946"
      ]
     },
     "execution_count": 86,
     "metadata": {},
     "output_type": "execute_result"
    }
   ],
   "source": [
    "sim_distance(critics,'Lisa Rose','Gene Seymour') #range between 0-1"
   ]
  },
  {
   "cell_type": "markdown",
   "metadata": {},
   "source": [
    "### Pearson Correlation Score(皮尔逊相关度评价)"
   ]
  },
  {
   "cell_type": "markdown",
   "metadata": {},
   "source": [
    "**该相关系数是判断两组数据与某一直线拟合程度的一种度量，它在数据不是很规范时会给出更好的结果**\n"
   ]
  },
  {
   "cell_type": "markdown",
   "metadata": {},
   "source": [
    "**它的作用是修正了“夸大分值”的情况，虽然Jack Matthews总是比Lisa Rose给出的分值高，但他们的品味其实是类似的**"
   ]
  },
  {
   "cell_type": "code",
   "execution_count": 87,
   "metadata": {},
   "outputs": [],
   "source": [
    "def sim_pearson(prefs, p1, p2):\n",
    "    '''\n",
    "    Returns the Pearson correlation coefficient for p1 and p2.\n",
    "    '''\n",
    "\n",
    "    # Get the list of mutually rated items（返回p1和p2的皮尔逊相关系数）\n",
    "    si = {}\n",
    "    for item in prefs[p1]:\n",
    "        if item in prefs[p2]:\n",
    "            si[item] = 1\n",
    "    # If they are no ratings in common, return 0\n",
    "    if len(si) == 0:\n",
    "        return 0\n",
    "    # Sum calculations\n",
    "    n = len(si)\n",
    "    # Sums of all the preferences\n",
    "    sum1 = sum([prefs[p1][it] for it in si])\n",
    "    sum2 = sum([prefs[p2][it] for it in si])\n",
    "    # Sums of the squares\n",
    "    sum1Sq = sum([pow(prefs[p1][it], 2) for it in si])\n",
    "    sum2Sq = sum([pow(prefs[p2][it], 2) for it in si])\n",
    "    # Sum of the products\n",
    "    pSum = sum([prefs[p1][it] * prefs[p2][it] for it in si])\n",
    "    # Calculate r (Pearson score)\n",
    "    num = pSum - sum1 * sum2 / n\n",
    "    den = sqrt((sum1Sq - pow(sum1, 2) / n) * (sum2Sq - pow(sum2, 2) / n))\n",
    "    if den == 0:\n",
    "        return 0\n",
    "    r = num / den\n",
    "    return r"
   ]
  },
  {
   "cell_type": "code",
   "execution_count": 88,
   "metadata": {},
   "outputs": [
    {
     "data": {
      "text/plain": [
       "0.39605901719066977"
      ]
     },
     "execution_count": 88,
     "metadata": {},
     "output_type": "execute_result"
    }
   ],
   "source": [
    "sim_pearson(critics,'Lisa Rose','Gene Seymour')"
   ]
  },
  {
   "cell_type": "markdown",
   "metadata": {},
   "source": [
    "### Ranking the Critics（为评论者打分）"
   ]
  },
  {
   "cell_type": "code",
   "execution_count": 89,
   "metadata": {},
   "outputs": [],
   "source": [
    "def topMatches(prefs,person,n=5,similarity=sim_pearson):\n",
    "    '''\n",
    "    Returns the best matches for person from the prefs dictionary. (运用皮尔逊相关度，返回和你相似度最高的人)\n",
    "    Number of results and similarity function are optional params.\n",
    "    '''\n",
    "\n",
    "    scores = [(similarity(prefs, person, other), other) for other in prefs\n",
    "              if other != person]\n",
    "    scores.sort() #从大到小进行排序\n",
    "    scores.reverse() #翻转，从小到大进行排序\n",
    "    return scores[0:n]"
   ]
  },
  {
   "cell_type": "code",
   "execution_count": 90,
   "metadata": {},
   "outputs": [
    {
     "data": {
      "text/plain": [
       "[(0.9912407071619299, 'Lisa Rose'),\n",
       " (0.9244734516419049, 'Mick LaSalle'),\n",
       " (0.8934051474415647, 'Claudia Puig')]"
      ]
     },
     "execution_count": 90,
     "metadata": {},
     "output_type": "execute_result"
    }
   ],
   "source": [
    "topMatches(critics,'Toby',n=3) #与Toby相似度最高的三个人"
   ]
  },
  {
   "cell_type": "markdown",
   "metadata": {},
   "source": [
    "### Recommending Items(推荐物品)"
   ]
  },
  {
   "cell_type": "markdown",
   "metadata": {},
   "source": [
    "**基本思路：找到与自己匹配度最高的几个人，将他们打过分的物品按照权重得到各自的单项分数（即匹配度高的人其权重也高，具体算法是相似度\\*匹配值），然后进行排序**"
   ]
  },
  {
   "cell_type": "code",
   "execution_count": 91,
   "metadata": {},
   "outputs": [],
   "source": [
    "def getRecommendations(prefs, person, similarity=sim_pearson):\n",
    "    '''\n",
    "    Gets recommendations for a person by using a weighted average\n",
    "    of every other user's rankings\n",
    "    '''\n",
    "\n",
    "    totals = {}\n",
    "    simSums = {}\n",
    "    for other in prefs:\n",
    "    # Don't compare me to myself\n",
    "        if other == person:\n",
    "            continue\n",
    "        sim = similarity(prefs, person, other)\n",
    "        # Ignore scores of zero or lower\n",
    "        if sim <= 0:\n",
    "            continue\n",
    "        for item in prefs[other]:\n",
    "            # Only score movies I haven't seen yet\n",
    "            if item not in prefs[person] or prefs[person][item] == 0:\n",
    "                # Similarity * Score\n",
    "                totals.setdefault(item, 0)\n",
    "                # The final score is calculated by multiplying each item by the\n",
    "                #   similarity and adding these products together\n",
    "                totals[item] += prefs[other][item] * sim\n",
    "                # Sum of similarities\n",
    "                simSums.setdefault(item, 0)\n",
    "                simSums[item] += sim\n",
    "    # Create the normalized list\n",
    "    rankings = [(total / simSums[item], item) for (item, total) in\n",
    "                totals.items()]        ##.items()以列表形式返回(键，值)\n",
    "    # Return the sorted list\n",
    "    rankings.sort()\n",
    "    rankings.reverse()\n",
    "    return rankings\n"
   ]
  },
  {
   "cell_type": "code",
   "execution_count": 92,
   "metadata": {},
   "outputs": [
    {
     "data": {
      "text/plain": [
       "[(3.3477895267131017, 'The Night Listener'),\n",
       " (2.8325499182641614, 'Lady in the Water'),\n",
       " (2.530980703765565, 'Just My Luck')]"
      ]
     },
     "execution_count": 92,
     "metadata": {},
     "output_type": "execute_result"
    }
   ],
   "source": [
    "getRecommendations(critics,'Toby') #Pearson Correlation"
   ]
  },
  {
   "cell_type": "code",
   "execution_count": 93,
   "metadata": {},
   "outputs": [
    {
     "data": {
      "text/plain": [
       "[(3.457128694491423, 'The Night Listener'),\n",
       " (2.778584003814924, 'Lady in the Water'),\n",
       " (2.422482042361917, 'Just My Luck')]"
      ]
     },
     "execution_count": 93,
     "metadata": {},
     "output_type": "execute_result"
    }
   ],
   "source": [
    "getRecommendations(critics,'Toby',similarity=sim_distance) #Euclidean Distance"
   ]
  },
  {
   "cell_type": "markdown",
   "metadata": {},
   "source": [
    "## Matching Products(匹配商品)"
   ]
  },
  {
   "cell_type": "markdown",
   "metadata": {},
   "source": [
    "**和前面不同，现在我们要为一个商品给出top3相似度的商品，因此我们需要如下类型的数据:<br>'Lisa Rose': {'Lady in the Water': 2.5}<br>'Gene Seymour': {'Lady in the Water': 3.0}<br>变为<br>'Lady in the Water':{'Lisa Rose':2.5,'Gene Semour': 3.5}<br>之后我们就可以复用以前的topMatches()了**"
   ]
  },
  {
   "cell_type": "code",
   "execution_count": 94,
   "metadata": {},
   "outputs": [],
   "source": [
    "def transformPrefs(prefs):\n",
    "    '''\n",
    "    Transform the recommendations into a mapping where persons are described\n",
    "    with interest scores for a given title e.g. {title: person} instead of\n",
    "    {person: title}.\n",
    "    '''\n",
    "\n",
    "    result = {}\n",
    "    for person in prefs:\n",
    "        for item in prefs[person]:\n",
    "            result.setdefault(item, {})\n",
    "            # Flip item and person\n",
    "            result[item][person] = prefs[person][item]\n",
    "    return result"
   ]
  },
  {
   "cell_type": "code",
   "execution_count": 95,
   "metadata": {},
   "outputs": [],
   "source": [
    "movies = transformPrefs(critics)"
   ]
  },
  {
   "cell_type": "code",
   "execution_count": 96,
   "metadata": {},
   "outputs": [
    {
     "name": "stdout",
     "output_type": "stream",
     "text": [
      "{'Lady in the Water': {'Lisa Rose': 2.5, 'Gene Seymour': 3.0, 'Michael Phillips': 2.5, 'Mick LaSalle': 3.0, 'Jack Matthews': 3.0}, 'Snakes on a Plane': {'Lisa Rose': 3.5, 'Gene Seymour': 3.5, 'Michael Phillips': 3.0, 'Claudia Puig': 3.5, 'Mick LaSalle': 4.0, 'Jack Matthews': 4.0, 'Toby': 4.5}, 'Just My Luck': {'Lisa Rose': 3.0, 'Gene Seymour': 1.5, 'Claudia Puig': 3.0, 'Mick LaSalle': 2.0}, 'Superman Returns': {'Lisa Rose': 3.5, 'Gene Seymour': 5.0, 'Michael Phillips': 3.5, 'Claudia Puig': 4.0, 'Mick LaSalle': 3.0, 'Jack Matthews': 5.0, 'Toby': 4.0}, 'You, Me and Dupree': {'Lisa Rose': 2.5, 'Gene Seymour': 3.5, 'Claudia Puig': 2.5, 'Mick LaSalle': 2.0, 'Jack Matthews': 3.5, 'Toby': 1.0}, 'The Night Listener': {'Lisa Rose': 3.0, 'Gene Seymour': 3.0, 'Michael Phillips': 4.0, 'Claudia Puig': 4.5, 'Mick LaSalle': 3.0, 'Jack Matthews': 3.0}}\n"
     ]
    }
   ],
   "source": [
    "print(movies)"
   ]
  },
  {
   "cell_type": "code",
   "execution_count": 97,
   "metadata": {},
   "outputs": [
    {
     "data": {
      "text/plain": [
       "[(0.6579516949597695, 'You, Me and Dupree'),\n",
       " (0.4879500364742689, 'Lady in the Water'),\n",
       " (0.11180339887498941, 'Snakes on a Plane'),\n",
       " (-0.1798471947990544, 'The Night Listener'),\n",
       " (-0.42289003161103106, 'Just My Luck')]"
      ]
     },
     "execution_count": 97,
     "metadata": {},
     "output_type": "execute_result"
    }
   ],
   "source": [
    "topMatches(movies,'Superman Returns') #负值代表不喜欢"
   ]
  },
  {
   "cell_type": "markdown",
   "metadata": {},
   "source": [
    "### 寻找这部影片的潜在爱好者"
   ]
  },
  {
   "cell_type": "code",
   "execution_count": 98,
   "metadata": {},
   "outputs": [
    {
     "data": {
      "text/plain": [
       "[(4.0, 'Michael Phillips'), (3.0, 'Jack Matthews')]"
      ]
     },
     "execution_count": 98,
     "metadata": {},
     "output_type": "execute_result"
    }
   ],
   "source": [
    "getRecommendations(movies,'Just My Luck')"
   ]
  },
  {
   "cell_type": "markdown",
   "metadata": {},
   "source": [
    "## Item-based Filtering(基于物品的过滤)"
   ]
  },
  {
   "cell_type": "markdown",
   "metadata": {},
   "source": [
    "### Building the Item Comparsion Dataset(构造物品比较数据集)"
   ]
  },
  {
   "cell_type": "code",
   "execution_count": 99,
   "metadata": {},
   "outputs": [],
   "source": [
    "def calculateSimilarItems(prefs, n=10):\n",
    "    '''\n",
    "    Create a dictionary of items showing which other items they are\n",
    "    most similar to.\n",
    "    '''\n",
    "\n",
    "    result = {}\n",
    "    # Invert the preference matrix to be item-centric\n",
    "    itemPrefs = transformPrefs(prefs)\n",
    "    c = 0\n",
    "    for item in itemPrefs:\n",
    "        # Status updates for large datasets\n",
    "        c += 1\n",
    "        if c % 100 == 0:\n",
    "            print('%d / %d' % (c, len(itemPrefs)))\n",
    "        # Find the most similar items to this one\n",
    "        scores = topMatches(itemPrefs, item, n=n, similarity=sim_distance)\n",
    "        result[item] = scores\n",
    "    return result"
   ]
  },
  {
   "cell_type": "code",
   "execution_count": 100,
   "metadata": {},
   "outputs": [],
   "source": [
    "itemsim = calculateSimilarItems(critics)"
   ]
  },
  {
   "cell_type": "markdown",
   "metadata": {},
   "source": [
    "###  Getting Recommendations(获得推荐)"
   ]
  },
  {
   "cell_type": "code",
   "execution_count": 101,
   "metadata": {},
   "outputs": [],
   "source": [
    "def getRecommendedItems(prefs, itemMatch, user):\n",
    "    userRatings = prefs[user]\n",
    "    scores = {}\n",
    "    totalSim = {}\n",
    "    # Loop over items rated by this user(循环遍历由当前用户评分的物品)\n",
    "    for (item, rating) in userRatings.items():\n",
    "        # Loop over items similar to this one（循环遍历与当前物品相近的物品）\n",
    "        for (similarity, item2) in itemMatch[item]:\n",
    "            # Ignore if this user has already rated this item\n",
    "            if item2 in userRatings:\n",
    "                continue\n",
    "            # Weighted sum of rating times similarity\n",
    "            scores.setdefault(item2, 0)\n",
    "            scores[item2] += similarity * rating\n",
    "            # Sum of all the similarities\n",
    "            totalSim.setdefault(item2, 0)\n",
    "            totalSim[item2] += similarity\n",
    "    # Divide each total score by total weighting to get an average\n",
    "    rankings = [(score / totalSim[item], item) for (item, score) in\n",
    "                scores.items()]\n",
    "    # Return the rankings from highest to lowest\n",
    "    rankings.sort()\n",
    "    rankings.reverse()\n",
    "    return rankings"
   ]
  },
  {
   "cell_type": "code",
   "execution_count": 102,
   "metadata": {},
   "outputs": [
    {
     "data": {
      "text/plain": [
       "[(3.1667425234070894, 'The Night Listener'),\n",
       " (2.9366294028444346, 'Just My Luck'),\n",
       " (2.868767392626467, 'Lady in the Water')]"
      ]
     },
     "execution_count": 102,
     "metadata": {},
     "output_type": "execute_result"
    }
   ],
   "source": [
    "getRecommendedItems(critics,itemsim,'Toby')"
   ]
  },
  {
   "cell_type": "markdown",
   "metadata": {},
   "source": [
    "## Building a del.icio.us Link Recommender(构建一个基于del.icio.us的推荐系统)"
   ]
  },
  {
   "cell_type": "markdown",
   "metadata": {},
   "source": [
    "*由于pydelicious失效，这部分内容略去*"
   ]
  },
  {
   "cell_type": "markdown",
   "metadata": {},
   "source": [
    "## Using the  MovieLens Dataset(使用MovieLens数据集)"
   ]
  },
  {
   "cell_type": "markdown",
   "metadata": {},
   "source": [
    "**这里有几个在Python3下比较匪夷所思的问题：<br>1.path地址有问题，总是找不到合适的path地址，解决方法是利用os.getcwd()得到当前目录，其余同书上<br>\n",
    "2.line.split('.')看csv就可知道，新的数据集分隔符为'.'<br>3.csv file第一行总有user，movieid等提示信息，不能一股脑录入，解决方案是直接在csv文件里删去**"
   ]
  },
  {
   "cell_type": "code",
   "execution_count": 103,
   "metadata": {},
   "outputs": [],
   "source": [
    "import os\n",
    "def loadMovieLens(path=os.getcwd()+'/data/movielens'):\n",
    "    movies = {}\n",
    "    for line in open(path + '/movies.csv'):\n",
    "        (id, title) = line.split(',')[0:2]\n",
    "        movies[id] = title\n",
    "  # Load data\n",
    "    prefs = {}\n",
    "    for line in open(path + '/ratings.csv'):\n",
    "        (user, movieid, rating, ts) = line.split(',')\n",
    "        prefs.setdefault(user, {})\n",
    "        prefs[user][movies[movieid]] = float(rating)\n",
    "    return prefs"
   ]
  },
  {
   "cell_type": "code",
   "execution_count": 104,
   "metadata": {},
   "outputs": [],
   "source": [
    "prefs = loadMovieLens()"
   ]
  },
  {
   "cell_type": "code",
   "execution_count": 105,
   "metadata": {},
   "outputs": [
    {
     "data": {
      "text/plain": [
       "{'\"Birdcage': 4.0,\n",
       " '\"Rock': 3.0,\n",
       " 'Beavis and Butt-Head Do America (1996)': 2.0,\n",
       " 'Black Sheep (1996)': 3.0,\n",
       " 'Broken Arrow (1996)': 3.0,\n",
       " 'Cold Comfort Farm (1995)': 5.0,\n",
       " 'Eraser (1996)': 3.0,\n",
       " 'Executive Decision (1996)': 4.0,\n",
       " 'Fargo (1996)': 5.0,\n",
       " 'Happy Gilmore (1996)': 4.0,\n",
       " 'Independence Day (a.k.a. ID4) (1996)': 3.0,\n",
       " 'Kids in the Hall: Brain Candy (1996)': 3.0,\n",
       " 'Kingpin (1996)': 4.0,\n",
       " 'Leaving Las Vegas (1995)': 4.0,\n",
       " 'Léon: The Professional (a.k.a. The Professional) (Léon) (1994)': 5.0,\n",
       " 'Mighty Aphrodite (1995)': 4.0,\n",
       " 'Mission: Impossible (1996)': 3.0,\n",
       " \"Mr. Holland's Opus (1995)\": 1.0,\n",
       " 'Phenomenon (1996)': 3.0,\n",
       " 'Rumble in the Bronx (Hont faan kui) (1995)': 3.0,\n",
       " 'Sabrina (1995)': 3.0,\n",
       " 'Shine (1996)': 5.0,\n",
       " 'Star Wars: Episode IV - A New Hope (1977)': 4.0,\n",
       " 'Star Wars: Episode VI - Return of the Jedi (1983)': 3.0,\n",
       " 'Striptease (1996)': 3.0,\n",
       " 'Tin Cup (1996)': 1.0,\n",
       " 'Toy Story (1995)': 3.0,\n",
       " 'Trainspotting (1996)': 3.0,\n",
       " 'Twelve Monkeys (a.k.a. 12 Monkeys) (1995)': 3.0,\n",
       " 'Twister (1996)': 2.0,\n",
       " 'Willy Wonka & the Chocolate Factory (1971)': 3.0}"
      ]
     },
     "execution_count": 105,
     "metadata": {},
     "output_type": "execute_result"
    }
   ],
   "source": [
    "prefs['87'] #第87位用户的评分如下"
   ]
  },
  {
   "cell_type": "code",
   "execution_count": 106,
   "metadata": {
    "scrolled": false
   },
   "outputs": [
    {
     "data": {
      "text/plain": [
       "[(5.0, 'Wrong Cops (2013)'),\n",
       " (5.0, 'Wrong (2012)'),\n",
       " (5.0, 'Wolf Children (Okami kodomo no ame to yuki) (2012)'),\n",
       " (5.0, 'Without a Clue (1988)'),\n",
       " (5.0, 'Wish Upon a Star (1996)'),\n",
       " (5.0, 'Willie & Phil (1980)'),\n",
       " (5.0, 'When Night Is Falling (1995)'),\n",
       " (5.0, 'Waltz with Bashir (Vals im Bashir) (2008)'),\n",
       " (5.0, 'Waiter (Ober) (2006)'),\n",
       " (5.0, 'Voyeur (Abel) (1986)'),\n",
       " (5.0, 'Visions of Light: The Art of Cinematography (1992)'),\n",
       " (5.0, 'Village of the Damned (1960)'),\n",
       " (5.0, 'Undertow (2004)'),\n",
       " (5.0, 'Trailer Park Boys (1999)'),\n",
       " (5.0, 'Through the Olive Trees (Zire darakhatan zeyton) (1994)'),\n",
       " (5.0, 'They All Laughed (1981)'),\n",
       " (5.0, 'Theremin: An Electronic Odyssey (1993)'),\n",
       " (5.0, 'The Slipper and the Rose: The Story of Cinderella (1976)'),\n",
       " (5.0, 'The Pacific (2010)'),\n",
       " (5.0, 'The Last Days of Emma Blank (2009)'),\n",
       " (5.0, 'The Earrings of Madame de... (1953)'),\n",
       " (5.0, 'The Dress (1996)'),\n",
       " (5.0, 'The Big Bus (1976)'),\n",
       " (5.0, 'The Beatles: Eight Days a Week - The Touring Years (2016)'),\n",
       " (5.0, \"Taste of Cherry (Ta'm e guilass) (1997)\"),\n",
       " (5.0, 'State of Siege (État de siège) (1972)'),\n",
       " (5.0, 'Shogun Assassin (1980)'),\n",
       " (5.0, 'Seve (2014)'),\n",
       " (5.0, 'Seconds (1966)'),\n",
       " (5.0, 'Schneider vs. Bax (2015)')]"
      ]
     },
     "execution_count": 106,
     "metadata": {},
     "output_type": "execute_result"
    }
   ],
   "source": [
    "getRecommendations(prefs,'87',)[0:30]"
   ]
  },
  {
   "cell_type": "code",
   "execution_count": 107,
   "metadata": {},
   "outputs": [
    {
     "name": "stdout",
     "output_type": "stream",
     "text": [
      "100 / 8963\n",
      "200 / 8963\n",
      "300 / 8963\n",
      "400 / 8963\n",
      "500 / 8963\n",
      "600 / 8963\n",
      "700 / 8963\n",
      "800 / 8963\n",
      "900 / 8963\n",
      "1000 / 8963\n",
      "1100 / 8963\n",
      "1200 / 8963\n",
      "1300 / 8963\n",
      "1400 / 8963\n",
      "1500 / 8963\n",
      "1600 / 8963\n",
      "1700 / 8963\n",
      "1800 / 8963\n",
      "1900 / 8963\n",
      "2000 / 8963\n",
      "2100 / 8963\n",
      "2200 / 8963\n",
      "2300 / 8963\n",
      "2400 / 8963\n",
      "2500 / 8963\n",
      "2600 / 8963\n",
      "2700 / 8963\n",
      "2800 / 8963\n",
      "2900 / 8963\n",
      "3000 / 8963\n",
      "3100 / 8963\n",
      "3200 / 8963\n",
      "3300 / 8963\n",
      "3400 / 8963\n",
      "3500 / 8963\n",
      "3600 / 8963\n",
      "3700 / 8963\n",
      "3800 / 8963\n",
      "3900 / 8963\n",
      "4000 / 8963\n",
      "4100 / 8963\n",
      "4200 / 8963\n",
      "4300 / 8963\n",
      "4400 / 8963\n",
      "4500 / 8963\n",
      "4600 / 8963\n",
      "4700 / 8963\n",
      "4800 / 8963\n",
      "4900 / 8963\n",
      "5000 / 8963\n",
      "5100 / 8963\n",
      "5200 / 8963\n",
      "5300 / 8963\n",
      "5400 / 8963\n",
      "5500 / 8963\n",
      "5600 / 8963\n",
      "5700 / 8963\n",
      "5800 / 8963\n",
      "5900 / 8963\n",
      "6000 / 8963\n",
      "6100 / 8963\n",
      "6200 / 8963\n",
      "6300 / 8963\n",
      "6400 / 8963\n",
      "6500 / 8963\n",
      "6600 / 8963\n",
      "6700 / 8963\n",
      "6800 / 8963\n",
      "6900 / 8963\n",
      "7000 / 8963\n",
      "7100 / 8963\n",
      "7200 / 8963\n",
      "7300 / 8963\n",
      "7400 / 8963\n",
      "7500 / 8963\n",
      "7600 / 8963\n",
      "7700 / 8963\n",
      "7800 / 8963\n",
      "7900 / 8963\n",
      "8000 / 8963\n",
      "8100 / 8963\n",
      "8200 / 8963\n",
      "8300 / 8963\n",
      "8400 / 8963\n",
      "8500 / 8963\n",
      "8600 / 8963\n",
      "8700 / 8963\n",
      "8800 / 8963\n",
      "8900 / 8963\n"
     ]
    }
   ],
   "source": [
    "itemsim = calculateSimilarItems(prefs,n=50)"
   ]
  },
  {
   "cell_type": "code",
   "execution_count": 108,
   "metadata": {},
   "outputs": [
    {
     "data": {
      "text/plain": [
       "[(5.0, 'xXx (2002)'),\n",
       " (5.0, 'loudQUIETloud: A Film About the Pixies (2006)'),\n",
       " (5.0, 'Zombieland (2009)'),\n",
       " (5.0, 'Zodiac (2007)'),\n",
       " (5.0, 'Zenon: Z3 (2004)'),\n",
       " (5.0, 'Zenon: The Zequel (2001)'),\n",
       " (5.0, 'Zenon: Girl of the 21st Century (1999)'),\n",
       " (5.0, 'Young People Fucking (a.k.a. YPF) (2007)'),\n",
       " (5.0, 'Yossi & Jagger (2002)'),\n",
       " (5.0, 'Wrong Cops (2013)'),\n",
       " (5.0, 'Wrong (2012)'),\n",
       " (5.0, 'Wonderland (2003)'),\n",
       " (5.0, 'Wonder Woman (2009)'),\n",
       " (5.0, \"Winter's Bone (2010)\"),\n",
       " (5.0, 'Winnie the Pooh and the Blustery Day (1968)'),\n",
       " (5.0, 'Winnebago Man (2009)'),\n",
       " (5.0, 'Willie & Phil (1980)'),\n",
       " (5.0, 'Wild at Heart (1990)'),\n",
       " (5.0, 'White Lightning (1973)'),\n",
       " (5.0, 'Whiplash (2014)'),\n",
       " (5.0, 'Wetlands (Feuchtgebiete) (2013)'),\n",
       " (5.0, 'Wedding Crashers (2005)'),\n",
       " (5.0, 'We Own the Night (2007)'),\n",
       " (5.0, 'We Bought a Zoo (2011)'),\n",
       " (5.0, 'Walking and Talking (1996)'),\n",
       " (5.0, 'Waiter (Ober) (2006)'),\n",
       " (5.0, 'Voyeur (Abel) (1986)'),\n",
       " (5.0, 'Visions of Light: The Art of Cinematography (1992)'),\n",
       " (5.0, 'Violeta Went to Heaven (Violeta se fue a los cielos) (2011)'),\n",
       " (5.0, 'Very Bad Things (1998)')]"
      ]
     },
     "execution_count": 108,
     "metadata": {},
     "output_type": "execute_result"
    }
   ],
   "source": [
    "getRecommendedItems(prefs,itemsim,'87')[0:30]"
   ]
  },
  {
   "cell_type": "code",
   "execution_count": null,
   "metadata": {},
   "outputs": [],
   "source": []
  }
 ],
 "metadata": {
  "kernelspec": {
   "display_name": "Python 3",
   "language": "python",
   "name": "python3"
  },
  "language_info": {
   "codemirror_mode": {
    "name": "ipython",
    "version": 3
   },
   "file_extension": ".py",
   "mimetype": "text/x-python",
   "name": "python",
   "nbconvert_exporter": "python",
   "pygments_lexer": "ipython3",
   "version": "3.6.3"
  }
 },
 "nbformat": 4,
 "nbformat_minor": 2
}
